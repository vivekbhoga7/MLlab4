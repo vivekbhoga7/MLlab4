{
 "cells": [
  {
   "cell_type": "code",
   "execution_count": 1,
   "metadata": {},
   "outputs": [],
   "source": [
    "import numpy as np\n",
    "import pandas as pd\n",
    "import matplotlib.pyplot as plt\n",
    "import openpyxl"
   ]
  },
  {
   "cell_type": "code",
   "execution_count": 2,
   "metadata": {},
   "outputs": [
    {
     "name": "stdout",
     "output_type": "stream",
     "text": [
      "      RowNumber  CustomerId    Surname  CreditScore Geography  Gender  Age  \\\n",
      "0             1    15634602   Hargrave          619    France  Female   42   \n",
      "1             2    15647311       Hill          608     Spain  Female   41   \n",
      "2             3    15619304       Onio          502    France  Female   42   \n",
      "3             4    15701354       Boni          699    France  Female   39   \n",
      "4             5    15737888   Mitchell          850     Spain  Female   43   \n",
      "...         ...         ...        ...          ...       ...     ...  ...   \n",
      "9995       9996    15606229   Obijiaku          771    France    Male   39   \n",
      "9996       9997    15569892  Johnstone          516    France    Male   35   \n",
      "9997       9998    15584532        Liu          709    France  Female   36   \n",
      "9998       9999    15682355  Sabbatini          772   Germany    Male   42   \n",
      "9999      10000    15628319     Walker          792    France  Female   28   \n",
      "\n",
      "      Tenure    Balance  NumOfProducts  HasCrCard  IsActiveMember  \\\n",
      "0          2       0.00              1          1               1   \n",
      "1          1   83807.86              1          0               1   \n",
      "2          8  159660.80              3          1               0   \n",
      "3          1       0.00              2          0               0   \n",
      "4          2  125510.82              1          1               1   \n",
      "...      ...        ...            ...        ...             ...   \n",
      "9995       5       0.00              2          1               0   \n",
      "9996      10   57369.61              1          1               1   \n",
      "9997       7       0.00              1          0               1   \n",
      "9998       3   75075.31              2          1               0   \n",
      "9999       4  130142.79              1          1               0   \n",
      "\n",
      "      EstimatedSalary  Exited  \n",
      "0           101348.88       1  \n",
      "1           112542.58       0  \n",
      "2           113931.57       1  \n",
      "3            93826.63       0  \n",
      "4            79084.10       0  \n",
      "...               ...     ...  \n",
      "9995         96270.64       0  \n",
      "9996        101699.77       0  \n",
      "9997         42085.58       1  \n",
      "9998         92888.52       1  \n",
      "9999         38190.78       0  \n",
      "\n",
      "[10000 rows x 14 columns]\n"
     ]
    }
   ],
   "source": [
    "df = pd.read_csv(\"customer_churn.csv\")\n",
    "print(df)"
   ]
  },
  {
   "cell_type": "code",
   "execution_count": 3,
   "metadata": {},
   "outputs": [
    {
     "name": "stdout",
     "output_type": "stream",
     "text": [
      "76485.889288\n",
      "100090.239881\n",
      "Centroid of Class 1: [     0.    83807.86 159660.8  ...      0.    75075.31 130142.79], Spread: [0. 0. 0. ... 0. 0. 0.]\n",
      "Centroid of Class 2: [101348.88 112542.58 113931.57 ...  42085.58  92888.52  38190.78], Spread: [0. 0. 0. ... 0. 0. 0.]\n",
      "Interclass Distance: 8755283.918815907\n"
     ]
    }
   ],
   "source": [
    "balance_mean = df['Balance'].mean()\n",
    "estimated_mean = df['EstimatedSalary'].mean()\n",
    "\n",
    "print(balance_mean)\n",
    "print(estimated_mean)\n",
    "\n",
    "class1_feat_vecs = np.array([df['Balance']]) \n",
    "class2_feat_vecs = np.array([df['EstimatedSalary']]) \n",
    "\n",
    "centroid1 = class1_feat_vecs.mean(axis=0)\n",
    "centroid2 = class2_feat_vecs.mean(axis=0)\n",
    "\n",
    "spread1 = class1_feat_vecs.std(axis=0)\n",
    "spread2 = class2_feat_vecs.std(axis=0)\n",
    "\n",
    "interclass_distance = np.linalg.norm(centroid1 - centroid2)\n",
    "\n",
    "print(f\"Centroid of Class 1: {centroid1}, Spread: {spread1}\")\n",
    "print(f\"Centroid of Class 2: {centroid2}, Spread: {spread2}\")\n",
    "print(f\"Interclass Distance: {interclass_distance}\")"
   ]
  },
  {
   "cell_type": "code",
   "execution_count": 5,
   "metadata": {},
   "outputs": [
    {
     "name": "stderr",
     "output_type": "stream",
     "text": [
      "c:\\Users\\Harshith\\AppData\\Local\\Programs\\Python\\Python311\\Lib\\site-packages\\seaborn\\axisgrid.py:123: UserWarning: The figure layout has changed to tight\n",
      "  self._figure.tight_layout(*args, **kwargs)\n"
     ]
    },
    {
     "data": {
      "image/png": "[encoded data removed]",
      "text/plain": [
       "<Figure size 500x500 with 1 Axes>"
      ]
     },
     "metadata": {},
     "output_type": "display_data"
    }
   ],
   "source": [
    "import seaborn as sns\n",
    "sns.displot(df['Age'])\n",
    "\n",
    "plt.show()"
   ]
  },
  {
   "cell_type": "code",
   "execution_count": 6,
   "metadata": {},
   "outputs": [],
   "source": [
    "import pandas as pd\n",
    "from sklearn.preprocessing import StandardScaler\n",
    "\n",
    "df_encoded = pd.get_dummies(df, drop_first=True)\n",
    "features = df_encoded.drop(columns=['Exited'], axis=1)\n",
    "target = df_encoded['Exited']\n",
    "column_names = features.columns\n",
    "\n",
    "scaler = StandardScaler()\n",
    "scaled_features = scaler.fit_transform(features)\n",
    "features_scaled = pd.DataFrame(scaled_features, columns=column_names)\n"
   ]
  },
  {
   "cell_type": "code",
   "execution_count": 7,
   "metadata": {},
   "outputs": [
    {
     "name": "stdout",
     "output_type": "stream",
     "text": [
      "Accuracy: 0.729\n",
      "Confusion Matrix:\n",
      "[[2074  305]\n",
      " [ 508  113]]\n",
      "Classification Report:\n",
      "              precision    recall  f1-score   support\n",
      "\n",
      "           0       0.80      0.87      0.84      2379\n",
      "           1       0.27      0.18      0.22       621\n",
      "\n",
      "    accuracy                           0.73      3000\n",
      "   macro avg       0.54      0.53      0.53      3000\n",
      "weighted avg       0.69      0.73      0.71      3000\n",
      "\n"
     ]
    }
   ],
   "source": [
    "from sklearn.neighbors import KNeighborsClassifier\n",
    "from sklearn.model_selection import train_test_split\n",
    "from sklearn.metrics import accuracy_score, confusion_matrix, classification_report\n",
    "\n",
    "x_train, x_test, y_train, y_test = train_test_split(features_scaled, target, test_size=0.3, random_state=0)\n",
    "\n",
    "knn_classifier = KNeighborsClassifier(n_neighbors=1)\n",
    "knn_classifier.fit(x_train, y_train)\n",
    "knn_predictions = knn_classifier.predict(x_test)\n",
    "\n",
    "accuracy = accuracy_score(y_test, knn_predictions)\n",
    "confusion_mat = confusion_matrix(y_test, knn_predictions)\n",
    "classification_rep = classification_report(y_test, knn_predictions)\n",
    "\n",
    "print(\"Accuracy:\", accuracy)\n",
    "print(\"Confusion Matrix:\")\n",
    "print(confusion_mat)\n",
    "print(\"Classification Report:\")\n",
    "print(classification_rep)\n"
   ]
  },
  {
   "cell_type": "code",
   "execution_count": 8,
   "metadata": {},
   "outputs": [
    {
     "name": "stdout",
     "output_type": "stream",
     "text": [
      "Accuracy: 0.7656666666666667\n",
      "Confusion Matrix:\n",
      "[[2248  131]\n",
      " [ 572   49]]\n",
      "Classification Report:\n",
      "              precision    recall  f1-score   support\n",
      "\n",
      "           0       0.80      0.94      0.86      2379\n",
      "           1       0.27      0.08      0.12       621\n",
      "\n",
      "    accuracy                           0.77      3000\n",
      "   macro avg       0.53      0.51      0.49      3000\n",
      "weighted avg       0.69      0.77      0.71      3000\n",
      "\n"
     ]
    }
   ],
   "source": [
    "x_train_split, x_test_split, y_train_split, y_test_split = train_test_split(features_scaled, target, test_size=0.3, random_state=0)\n",
    "\n",
    "knn_classifier = KNeighborsClassifier(n_neighbors=3)\n",
    "knn_classifier.fit(x_train_split, y_train_split)\n",
    "knn_predictions = knn_classifier.predict(x_test_split)\n",
    "\n",
    "accuracy_split = accuracy_score(y_test_split, knn_predictions)\n",
    "confusion_mat_split = confusion_matrix(y_test_split, knn_predictions)\n",
    "classification_rep_split = classification_report(y_test_split, knn_predictions)\n",
    "\n",
    "print(\"Accuracy:\", accuracy_split)\n",
    "print(\"Confusion Matrix:\")\n",
    "print(confusion_mat_split)\n",
    "print(\"Classification Report:\")\n",
    "print(classification_rep_split)\n"
   ]
  }
 ],
 "metadata": {
  "kernelspec": {
   "display_name": "Python 3",
   "language": "python",
   "name": "python3"
  },
  "language_info": {
   "codemirror_mode": {
    "name": "ipython",
    "version": 3
   },
   "file_extension": ".py",
   "mimetype": "text/x-python",
   "name": "python",
   "nbconvert_exporter": "python",
   "pygments_lexer": "ipython3",
   "version": "3.11.5"
  }
 },
 "nbformat": 4,
 "nbformat_minor": 2
}
